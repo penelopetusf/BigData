{
 "cells": [
  {
   "cell_type": "markdown",
   "metadata": {
    "application/vnd.databricks.v1+cell": {
     "cellMetadata": {
      "byteLimit": 2048000,
      "rowLimit": 10000
     },
     "inputWidgets": {},
     "nuid": "266f5efe-f8b5-432a-9245-a532b2dcd9d2",
     "showTitle": false,
     "tableResultSettingsMap": {},
     "title": ""
    }
   },
   "source": [
    "# SnackChain Big Data Analysis\n",
    "\n",
    "This notebook analyzes SnackChain sales data using PySpark, SparkSQL, and SparkML.\n",
    "\n",
    "Spring 2024 Final Project - Dr. Kaushik Dutta \n",
    "\n",
    "Group 9: Penelope Tangamu, Jae-Ann Smith, Pooja Radhakrishnan, Amber Anderson"
   ]
  },
  {
   "cell_type": "markdown",
   "metadata": {
    "application/vnd.databricks.v1+cell": {
     "cellMetadata": {
      "byteLimit": 2048000,
      "rowLimit": 10000
     },
     "inputWidgets": {},
     "nuid": "b500d1d0-4ede-40ea-93b2-27fd8a5a4d7d",
     "showTitle": false,
     "tableResultSettingsMap": {},
     "title": ""
    }
   },
   "source": [
    "## Step 1: Setup Spark Session"
   ]
  },
  {
   "cell_type": "code",
   "execution_count": 0,
   "metadata": {
    "application/vnd.databricks.v1+cell": {
     "cellMetadata": {
      "byteLimit": 2048000,
      "rowLimit": 10000
     },
     "inputWidgets": {},
     "nuid": "bd77fb5d-51bd-434d-ba40-cda3c3c68bf6",
     "showTitle": false,
     "tableResultSettingsMap": {},
     "title": ""
    }
   },
   "outputs": [
    {
     "output_type": "stream",
     "name": "stdout",
     "output_type": "stream",
     "text": [
      "Out[1]: '3.3.2'"
     ]
    }
   ],
   "source": [
    "#Ensure cluster is active, re-run periodically to prevent cluster from timing out\n",
    "spark.version\n"
   ]
  },
  {
   "cell_type": "markdown",
   "metadata": {
    "application/vnd.databricks.v1+cell": {
     "cellMetadata": {
      "byteLimit": 2048000,
      "rowLimit": 10000
     },
     "inputWidgets": {},
     "nuid": "5804e32a-80c9-4c4f-bfec-6473afde58c9",
     "showTitle": false,
     "tableResultSettingsMap": {},
     "title": ""
    }
   },
   "source": [
    "## Step 2: Load Data"
   ]
  },
  {
   "cell_type": "code",
   "execution_count": 0,
   "metadata": {
    "application/vnd.databricks.v1+cell": {
     "cellMetadata": {
      "byteLimit": 2048000,
      "rowLimit": 10000
     },
     "inputWidgets": {},
     "nuid": "d345aa17-ca23-4124-a905-658a734ec3ae",
     "showTitle": false,
     "tableResultSettingsMap": {},
     "title": ""
    }
   },
   "outputs": [],
   "source": [
    "# Converted .xlsx file to .csv before uploading to databricks\n",
    "# Load datasets (after uploading it to /FileStore/)\n",
    "products = spark.read.format('csv')\\\n",
    "    .option('header', 'true')\\\n",
    "    .option('inferSchema', 'true')\\\n",
    "    .load('/FileStore/tables/products.csv')\n",
    "\n",
    "\n",
    "stores = spark.read.format('csv')\\\n",
    "    .option('header', 'true')\\\n",
    "    .option('inferSchema', 'true')\\\n",
    "    .load('/FileStore/tables/stores.csv')\n",
    "\n",
    "transactions = spark.read.format('csv')\\\n",
    "    .option('header', 'true')\\\n",
    "    .option('inferSchema', 'true')\\\n",
    "    .load('/FileStore/tables/transactions.csv')\n",
    "\n",
    "\n"
   ]
  },
  {
   "cell_type": "markdown",
   "metadata": {
    "application/vnd.databricks.v1+cell": {
     "cellMetadata": {
      "byteLimit": 2048000,
      "rowLimit": 10000
     },
     "inputWidgets": {},
     "nuid": "00bf6e78-b832-45a9-8cd4-ace196c70a2e",
     "showTitle": false,
     "tableResultSettingsMap": {},
     "title": ""
    }
   },
   "source": [
    "## Step 3: Data Cleaning and Processing"
   ]
  },
  {
   "cell_type": "code",
   "execution_count": 0,
   "metadata": {
    "application/vnd.databricks.v1+cell": {
     "cellMetadata": {
      "byteLimit": 2048000,
      "rowLimit": 10000
     },
     "inputWidgets": {},
     "nuid": "ffd30836-5f06-4f58-bcd9-e6e2cf2f0a32",
     "showTitle": false,
     "tableResultSettingsMap": {},
     "title": ""
    }
   },
   "outputs": [
    {
     "output_type": "stream",
     "name": "stdout",
     "output_type": "stream",
     "text": [
      "root\n |-- UPC: long (nullable = true)\n |-- DESCRIPTION: string (nullable = true)\n |-- MANUFACTURER: string (nullable = true)\n |-- CATEGORY: string (nullable = true)\n |-- SUB_CATEGORY: string (nullable = true)\n |-- PRODUCT_SIZE: string (nullable = true)\n\nroot\n |-- WEEK_END_DATE: string (nullable = true)\n |-- STORE_NUM: integer (nullable = true)\n |-- UPC: long (nullable = true)\n |-- UNITS: integer (nullable = true)\n |-- VISITS: integer (nullable = true)\n |-- HHS: integer (nullable = true)\n |-- SPEND: double (nullable = true)\n |-- PRICE: double (nullable = true)\n |-- BASE_PRICE: double (nullable = true)\n |-- FEATURE: integer (nullable = true)\n |-- DISPLAY: integer (nullable = true)\n |-- TPR_ONLY: integer (nullable = true)\n\nroot\n |-- STORE_ID: integer (nullable = true)\n |-- STORE_NAME: string (nullable = true)\n |-- CITY: string (nullable = true)\n |-- STATE: string (nullable = true)\n |-- MSA: integer (nullable = true)\n |-- SEGMENT: string (nullable = true)\n |-- PARKING: integer (nullable = true)\n |-- SIZE: integer (nullable = true)\n |-- AVG_WEEKLY_BASKETS: integer (nullable = true)\n |-- _c9: string (nullable = true)\n\n+-------+--------------------+--------------------+------------+--------------------+------------+------------+\n|summary|                 UPC|         DESCRIPTION|MANUFACTURER|            CATEGORY|SUB_CATEGORY|PRODUCT_SIZE|\n+-------+--------------------+--------------------+------------+--------------------+------------+------------+\n|  count|                  58|                  58|          58|                  58|          58|          58|\n|   mean| 9.617884777586206E9|                null|        null|                null|        null|        null|\n| stddev|1.969697790883948...|                null|        null|                null|        null|        null|\n|    min|          1111009477|ACT KIDS BBLGUM F...|     CHATTEM|          BAG SNACKS|ADULT CEREAL|        1 LT|\n|    max|         88491212971|SNYDR SOURDOUGH N...|      WARNER|ORAL HYGIENE PROD...|    PRETZELS|      532 ML|\n+-------+--------------------+--------------------+------------+--------------------+------------+------------+\n\n+-------+-------------+------------------+--------------------+------------------+------------------+------------------+------------------+------------------+------------------+-------------------+-------------------+-------------------+\n|summary|WEEK_END_DATE|         STORE_NUM|                 UPC|             UNITS|            VISITS|               HHS|             SPEND|             PRICE|        BASE_PRICE|            FEATURE|            DISPLAY|           TPR_ONLY|\n+-------+-------------+------------------+--------------------+------------------+------------------+------------------+------------------+------------------+------------------+-------------------+-------------------+-------------------+\n|  count|       524950|            524950|              524950|            524950|            524950|            524950|            524950|            524927|            524765|             524950|             524950|             524950|\n|   mean|         null|14690.105659586627|1.031631084857427...|19.608256024383273| 17.16734927135918|16.777281645871035|53.200728793223504|3.3821742642306987|3.6027470200944482|0.08429564720449567|0.11013429850461949| 0.1347442613582246|\n| stddev|         null| 8891.432358676668|2.081698312153258E10|29.934183620584044|24.740740631910047|24.186298619948634| 68.18069738286778|1.5593034856393357|1.6317264935727034| 0.2778309523964515|  0.313057377314984|0.34145053446095874|\n|    min|     1-Apr-09|               367|          1111009477|                 0|                 1|                 1|               0.0|               0.0|              0.55|                  0|                  0|                  0|\n|    max|     9-Sep-09|             29159|         88491212971|              1800|              1340|              1286|            2952.0|             11.46|             11.46|                  1|                  1|                  1|\n+-------+-------------+------------------+--------------------+------------------+------------------+------------------+------------------+------------------+------------------+-------------------+-------------------+-------------------+\n\n+-------+------------------+--------------+---------+-----+-----------------+----------+------------------+------------------+------------------+----+\n|summary|          STORE_ID|    STORE_NAME|     CITY|STATE|              MSA|   SEGMENT|           PARKING|              SIZE|AVG_WEEKLY_BASKETS| _c9|\n+-------+------------------+--------------+---------+-----+-----------------+----------+------------------+------------------+------------------+----+\n|  count|                79|            79|       79|   79|               79|        79|                27|                79|                79|   0|\n|   mean|14502.468354430379|          null|     null| null|21236.20253164557|      null|480.51851851851853| 49145.16455696202|24146.822784810127|null|\n| stddev|  8868.76203143029|          null|     null| null| 6138.64937617252|      null| 403.6596405551407|13512.452153126116| 8720.398336525652|null|\n|    min|               367|15TH & MADISON|    ALLEN|   IN|            13140|MAINSTREAM|                17|             10788|             10435|null|\n|    max|             29159|      WOODLAWN|WOODLANDS|   TX|            47540|     VALUE|              1859|             86517|             54053|null|\n+-------+------------------+--------------+---------+-----+-----------------+----------+------------------+------------------+------------------+----+\n\n"
     ]
    }
   ],
   "source": [
    "# Check structure of each table \n",
    "products.printSchema()\n",
    "transactions.printSchema()\n",
    "stores.printSchema()\n",
    "\n",
    "products.describe().show()\n",
    "transactions.describe().show()\n",
    "stores.describe().show()"
   ]
  },
  {
   "cell_type": "code",
   "execution_count": 0,
   "metadata": {
    "application/vnd.databricks.v1+cell": {
     "cellMetadata": {
      "byteLimit": 2048000,
      "rowLimit": 10000
     },
     "inputWidgets": {},
     "nuid": "87a30f32-cc8e-48d2-814a-98ec09922ede",
     "showTitle": false,
     "tableResultSettingsMap": {},
     "title": ""
    }
   },
   "outputs": [
    {
     "output_type": "stream",
     "name": "stdout",
     "output_type": "stream",
     "text": [
      "+---+-----------+------------+--------+------------+------------+\n|UPC|DESCRIPTION|MANUFACTURER|CATEGORY|SUB_CATEGORY|PRODUCT_SIZE|\n+---+-----------+------------+--------+------------+------------+\n| 16|         16|          16|      16|          16|          16|\n+---+-----------+------------+--------+------------+------------+\n\n+-------------+---------+------+------+------+------+------+------+----------+-------+-------+--------+\n|WEEK_END_DATE|STORE_NUM|   UPC| UNITS|VISITS|   HHS| SPEND| PRICE|BASE_PRICE|FEATURE|DISPLAY|TPR_ONLY|\n+-------------+---------+------+------+------+------+------+------+----------+-------+-------+--------+\n|       157371|   157371|157371|157371|157371|157371|157371|157394|    157556| 157371| 157371|  157371|\n+-------------+---------+------+------+------+------+------+------+----------+-------+-------+--------+\n\n+--------+----------+----+-----+---+-------+-------+----+------------------+---+\n|STORE_ID|STORE_NAME|CITY|STATE|MSA|SEGMENT|PARKING|SIZE|AVG_WEEKLY_BASKETS|_c9|\n+--------+----------+----+-----+---+-------+-------+----+------------------+---+\n|       0|         0|   0|    0|  0|      0|     52|   0|                 0| 79|\n+--------+----------+----+-----+---+-------+-------+----+------------------+---+\n\n"
     ]
    }
   ],
   "source": [
    "from pyspark.sql.functions import col, count, when\n",
    "# Check missing values in products\n",
    "products.select([count(when(col(c).isNull(), c)).alias(c) for c in products.columns]).show()\n",
    "transactions.select([count(when(col(c).isNull(), c)).alias(c) for c in transactions.columns]).show()\n",
    "stores.select([count(when(col(c).isNull(), c)).alias(c) for c in stores.columns]).show()\n",
    "#Results:\n",
    "    # Product: 16 rows missing columns\n",
    "    # Transaction: 157k rows  (likely csv converting issue)\n",
    "    # Stores: PARKING column -- replace missing with 0, one weird/unknown column _c9(likely csv converting issue)\n"
   ]
  },
  {
   "cell_type": "code",
   "execution_count": 0,
   "metadata": {
    "application/vnd.databricks.v1+cell": {
     "cellMetadata": {
      "byteLimit": 2048000,
      "rowLimit": 10000
     },
     "inputWidgets": {},
     "nuid": "95a02226-8bde-4bca-b303-30b5876a4e8d",
     "showTitle": false,
     "tableResultSettingsMap": {},
     "title": ""
    }
   },
   "outputs": [],
   "source": [
    "# Drop missing rows from products and transactions\n",
    "products = products.dropna()\n",
    "transactions = transactions.dropna()\n",
    "\n",
    "# Drop stores _c9 column \n",
    "stores = stores.drop('_c9')\n",
    "\n",
    "# handle missing values in PARKING \n",
    "from pyspark.sql.functions import mean, round as pyspark_round\n",
    "parking_mean = stores.select(mean('PARKING')).collect()[0][0]\n",
    "stores = stores.fillna({'PARKING': parking_mean}) "
   ]
  },
  {
   "cell_type": "code",
   "execution_count": 0,
   "metadata": {
    "application/vnd.databricks.v1+cell": {
     "cellMetadata": {
      "byteLimit": 2048000,
      "rowLimit": 10000
     },
     "inputWidgets": {},
     "nuid": "59354367-c87d-426a-b63f-8105c49dd3be",
     "showTitle": false,
     "tableResultSettingsMap": {},
     "title": ""
    }
   },
   "outputs": [
    {
     "output_type": "stream",
     "name": "stdout",
     "output_type": "stream",
     "text": [
      "+---+-----------+------------+--------+------------+------------+\n|UPC|DESCRIPTION|MANUFACTURER|CATEGORY|SUB_CATEGORY|PRODUCT_SIZE|\n+---+-----------+------------+--------+------------+------------+\n|  0|          0|           0|       0|           0|           0|\n+---+-----------+------------+--------+------------+------------+\n\n+-------------+---------+---+-----+------+---+-----+-----+----------+-------+-------+--------+\n|WEEK_END_DATE|STORE_NUM|UPC|UNITS|VISITS|HHS|SPEND|PRICE|BASE_PRICE|FEATURE|DISPLAY|TPR_ONLY|\n+-------------+---------+---+-----+------+---+-----+-----+----------+-------+-------+--------+\n|            0|        0|  0|    0|     0|  0|    0|    0|         0|      0|      0|       0|\n+-------------+---------+---+-----+------+---+-----+-----+----------+-------+-------+--------+\n\n+--------+----------+----+-----+---+-------+-------+----+------------------+\n|STORE_ID|STORE_NAME|CITY|STATE|MSA|SEGMENT|PARKING|SIZE|AVG_WEEKLY_BASKETS|\n+--------+----------+----+-----+---+-------+-------+----+------------------+\n|       0|         0|   0|    0|  0|      0|      0|   0|                 0|\n+--------+----------+----+-----+---+-------+-------+----+------------------+\n\n"
     ]
    }
   ],
   "source": [
    "# Recheck missing values \n",
    "products.select([count(when(col(c).isNull(), c)).alias(c) for c in products.columns]).show()\n",
    "transactions.select([count(when(col(c).isNull(), c)).alias(c) for c in transactions.columns]).show()\n",
    "stores.select([count(when(col(c).isNull(), c)).alias(c) for c in stores.columns]).show()\n"
   ]
  },
  {
   "cell_type": "code",
   "execution_count": 0,
   "metadata": {
    "application/vnd.databricks.v1+cell": {
     "cellMetadata": {
      "byteLimit": 2048000,
      "rowLimit": 10000
     },
     "inputWidgets": {},
     "nuid": "8e18e1fd-398a-4425-88e9-f5b671ee9939",
     "showTitle": false,
     "tableResultSettingsMap": {},
     "title": ""
    }
   },
   "outputs": [
    {
     "output_type": "stream",
     "name": "stdout",
     "output_type": "stream",
     "text": [
      "root\n |-- STORE_NUM: integer (nullable = true)\n |-- UPC: long (nullable = true)\n |-- WEEK_END_DATE: string (nullable = true)\n |-- UNITS: integer (nullable = true)\n |-- VISITS: integer (nullable = true)\n |-- HHS: integer (nullable = true)\n |-- SPEND: double (nullable = true)\n |-- PRICE: double (nullable = true)\n |-- BASE_PRICE: double (nullable = true)\n |-- FEATURE: integer (nullable = true)\n |-- DISPLAY: integer (nullable = true)\n |-- TPR_ONLY: integer (nullable = true)\n |-- DESCRIPTION: string (nullable = true)\n |-- MANUFACTURER: string (nullable = true)\n |-- CATEGORY: string (nullable = true)\n |-- SUB_CATEGORY: string (nullable = true)\n |-- PRODUCT_SIZE: string (nullable = true)\n |-- STORE_NAME: string (nullable = true)\n |-- CITY: string (nullable = true)\n |-- STATE: string (nullable = true)\n |-- MSA: integer (nullable = true)\n |-- SEGMENT: string (nullable = true)\n |-- PARKING: integer (nullable = true)\n |-- SIZE: integer (nullable = true)\n |-- AVG_WEEKLY_BASKETS: integer (nullable = true)\n\n+---------+----------+-------------+-----+------+---+-----+-----+----------+-------+-------+--------+--------------------+-------------+--------------------+--------------------+------------+--------------+---------+-----+-----+-------+-------+-----+------------------+\n|STORE_NUM|       UPC|WEEK_END_DATE|UNITS|VISITS|HHS|SPEND|PRICE|BASE_PRICE|FEATURE|DISPLAY|TPR_ONLY|         DESCRIPTION| MANUFACTURER|            CATEGORY|        SUB_CATEGORY|PRODUCT_SIZE|    STORE_NAME|     CITY|STATE|  MSA|SEGMENT|PARKING| SIZE|AVG_WEEKLY_BASKETS|\n+---------+----------+-------------+-----+------+---+-----+-----+----------+-------+-------+--------+--------------------+-------------+--------------------+--------------------+------------+--------------+---------+-----+-----+-------+-------+-----+------------------+\n|      367|1111009477|    14-Jan-09|   13|    13| 13|18.07| 1.39|      1.57|      0|      0|       1|PL MINI TWIST PRE...|PRIVATE LABEL|          BAG SNACKS|            PRETZELS|       15 OZ|15TH & MADISON|COVINGTON|   KY|17140|  VALUE|    196|24721|             12707|\n|      367|1111009497|    14-Jan-09|   20|    18| 18| 27.8| 1.39|      1.39|      0|      0|       0|   PL PRETZEL STICKS|PRIVATE LABEL|          BAG SNACKS|            PRETZELS|       15 OZ|15TH & MADISON|COVINGTON|   KY|17140|  VALUE|    196|24721|             12707|\n|      367|1111009507|    14-Jan-09|   14|    14| 14|19.32| 1.38|      1.38|      0|      0|       0|   PL TWIST PRETZELS|PRIVATE LABEL|          BAG SNACKS|            PRETZELS|       15 OZ|15TH & MADISON|COVINGTON|   KY|17140|  VALUE|    196|24721|             12707|\n|      367|1111035398|    14-Jan-09|    4|     3|  3| 14.0|  3.5|      4.49|      0|      0|       1|PL BL MINT ANTSPT...|PRIVATE LABEL|ORAL HYGIENE PROD...|MOUTHWASHES (ANTI...|      1.5 LT|15TH & MADISON|COVINGTON|   KY|17140|  VALUE|    196|24721|             12707|\n|      367|1111038078|    14-Jan-09|    3|     3|  3|  7.5|  2.5|       2.5|      0|      0|       0|PL BL MINT ANTSPT...|PRIVATE LABEL|ORAL HYGIENE PROD...|MOUTHWASHES (ANTI...|      500 ML|15TH & MADISON|COVINGTON|   KY|17140|  VALUE|    196|24721|             12707|\n+---------+----------+-------------+-----+------+---+-----+-----+----------+-------+-------+--------+--------------------+-------------+--------------------+--------------------+------------+--------------+---------+-----+-----+-------+-------+-----+------------------+\nonly showing top 5 rows\n\n"
     ]
    }
   ],
   "source": [
    "# Join tables\n",
    "# Join transactions with products on UPC\n",
    "trans_products = transactions.join(products, on='UPC', how='inner')\n",
    "\n",
    "# Rename STORE_ID in stores to STORE_NUM (to match transactions)\n",
    "stores = stores.withColumnRenamed('STORE_ID', 'STORE_NUM')\n",
    "\n",
    "# Join the result with stores on STORE_NUM\n",
    "df = trans_products.join(stores, on='STORE_NUM', how='inner')\n",
    "\n",
    "# Cache dataset\n",
    "df.cache()\n",
    "\n",
    "df.printSchema()\n",
    "df.show(5)\n"
   ]
  },
  {
   "cell_type": "markdown",
   "metadata": {
    "application/vnd.databricks.v1+cell": {
     "cellMetadata": {
      "byteLimit": 2048000,
      "rowLimit": 10000
     },
     "inputWidgets": {},
     "nuid": "d2176572-d359-4f88-8cbe-82f6dd0f88bf",
     "showTitle": false,
     "tableResultSettingsMap": {},
     "title": ""
    }
   },
   "source": [
    "## Step 4: Exploratory Data Analysis (EDA)"
   ]
  },
  {
   "cell_type": "code",
   "execution_count": 0,
   "metadata": {
    "application/vnd.databricks.v1+cell": {
     "cellMetadata": {
      "byteLimit": 2048000,
      "rowLimit": 10000
     },
     "inputWidgets": {},
     "nuid": "45d554a9-412f-4ac6-99d8-ae5a41e07c05",
     "showTitle": false,
     "tableResultSettingsMap": {},
     "title": ""
    }
   },
   "outputs": [
    {
     "output_type": "stream",
     "name": "stdout",
     "output_type": "stream",
     "text": [
      "+--------------------+----------+\n|         DESCRIPTION|sum(UNITS)|\n+--------------------+----------+\n|         GM CHEERIOS|    907571|\n|GM HONEY NUT CHEE...|    828200|\n|PL MINI TWIST PRE...|    687797|\n| KELL FROSTED FLAKES|    579036|\n|   PL PRETZEL STICKS|    547771|\n|PL BT SZ FRSTD SH...|    477461|\n|    KELL FROOT LOOPS|    471884|\n|KELL BITE SIZE MI...|    407179|\n|      PL RAISIN BRAN|    377635|\n|QKER CAP N CRUNCH...|    344551|\n+--------------------+----------+\nonly showing top 10 rows\n\n+------------------+-----+\n|        STORE_NAME|count|\n+------------------+-----+\n|           HOUSTON|26531|\n|        MIDDLETOWN|14986|\n|          ROCKWALL|13812|\n|      FLOWER MOUND|13574|\n|ANDERSON TOWNE CTR| 8045|\n|         HYDE PARK| 8007|\n|          BLUE ASH| 7968|\n|        CINCINNATI| 7934|\n|       LIBERTY TWP| 7895|\n|           LEBANON| 7865|\n+------------------+-----+\nonly showing top 10 rows\n\n+-------------+------------------+\n|WEEK_END_DATE|        sum(SPEND)|\n+-------------+------------------+\n|     1-Apr-09|172916.45999999996|\n|     1-Dec-10|161237.46999999924|\n|     1-Jul-09|163263.78999999972|\n|     1-Jun-11| 162016.9299999996|\n|     1-Sep-10| 169089.7300000004|\n|    10-Aug-11| 181691.0799999996|\n|    10-Feb-10| 202372.6700000001|\n|    10-Jun-09|182451.07000000033|\n|    10-Mar-10| 198871.7799999997|\n|    10-Nov-10| 197864.8799999997|\n+-------------+------------------+\nonly showing top 10 rows\n\n"
     ]
    }
   ],
   "source": [
    "# Top 10 Best-Selling Prouducts by units\n",
    "top_products = df.groupBy('DESCRIPTION')\\\n",
    "    .sum('UNITS')\\\n",
    "    .orderBy('sum(UNITS)', ascending=False)\n",
    "\n",
    "top_products.show(10)\n",
    "\n",
    "# Top 10 Busiest Stores by  # of Transactions\n",
    "busiest_stores = df.groupBy('STORE_NAME')\\\n",
    "    .count()\\\n",
    "    .orderBy('count', ascending=False)\n",
    "\n",
    "busiest_stores.show(10)\n",
    "\n",
    "# Weekly Sales Trend\n",
    "weekly_sales = df.groupBy('WEEK_END_DATE')\\\n",
    "    .sum('SPEND')\\\n",
    "    .orderBy('WEEK_END_DATE')\n",
    "\n",
    "weekly_sales.show(10)\n",
    "\n"
   ]
  },
  {
   "cell_type": "code",
   "execution_count": 0,
   "metadata": {
    "application/vnd.databricks.v1+cell": {
     "cellMetadata": {
      "byteLimit": 2048000,
      "rowLimit": 10000
     },
     "collapsed": true,
     "inputWidgets": {},
     "nuid": "df97c032-aff9-4605-b282-cb2d89e9e489",
     "showTitle": false,
     "tableResultSettingsMap": {},
     "title": ""
    }
   },
   "outputs": [
    {
     "output_type": "display_data",
     "data": {
      "text/html": [
       "<style scoped>\n",
       "  .table-result-container {\n",
       "    max-height: 300px;\n",
       "    overflow: auto;\n",
       "  }\n",
       "  table, th, td {\n",
       "    border: 1px solid black;\n",
       "    border-collapse: collapse;\n",
       "  }\n",
       "  th, td {\n",
       "    padding: 5px;\n",
       "  }\n",
       "  th {\n",
       "    text-align: left;\n",
       "  }\n",
       "</style><div class='table-result-container'><table class='table-result'><thead style='background-color: white'><tr><th>DESCRIPTION</th><th>sum(UNITS)</th></tr></thead><tbody><tr><td>GM CHEERIOS</td><td>907571</td></tr><tr><td>GM HONEY NUT CHEERIOS</td><td>828200</td></tr><tr><td>PL MINI TWIST PRETZELS</td><td>687797</td></tr><tr><td>KELL FROSTED FLAKES</td><td>579036</td></tr><tr><td>PL PRETZEL STICKS</td><td>547771</td></tr><tr><td>PL BT SZ FRSTD SHRD WHT</td><td>477461</td></tr><tr><td>KELL FROOT LOOPS</td><td>471884</td></tr><tr><td>KELL BITE SIZE MINI WHEAT</td><td>407179</td></tr><tr><td>PL RAISIN BRAN</td><td>377635</td></tr><tr><td>QKER CAP N CRUNCH BERRIES</td><td>344551</td></tr><tr><td>POST HNY BN OTS HNY RSTD</td><td>313637</td></tr><tr><td>POST FRUITY PEBBLES</td><td>297316</td></tr><tr><td>POST FM SZ HNYBNCH OT ALM</td><td>272440</td></tr><tr><td>PL HONEY NUT TOASTD OATS</td><td>267033</td></tr><tr><td>DIGRN PEPP PIZZA</td><td>266472</td></tr><tr><td>PL TWIST PRETZELS</td><td>259538</td></tr><tr><td>QKER CAP N CRUNCH</td><td>257297</td></tr><tr><td>DIGRN SUPREME PIZZA</td><td>195604</td></tr><tr><td>PL SR CRUST PEPPRN PIZZA</td><td>186334</td></tr><tr><td>QKER LIFE ORIGINAL</td><td>177365</td></tr><tr><td>RLDGLD TINY TWISTS PRTZL</td><td>169975</td></tr><tr><td>PL SR CRUST 3 MEAT PIZZA</td><td>149374</td></tr><tr><td>PL SR CRUST SUPRM PIZZA</td><td>144989</td></tr><tr><td>DIGIORNO THREE MEAT</td><td>144193</td></tr><tr><td>SNYDR SOURDOUGH NIBBLERS</td><td>138506</td></tr><tr><td>SNYDR FF MINI PRETZELS</td><td>135356</td></tr><tr><td>RLDGLD PRETZEL STICKS</td><td>126381</td></tr><tr><td>PL BL MINT ANTSPTC RINSE</td><td>119744</td></tr><tr><td>SNYDR PRETZEL RODS</td><td>119496</td></tr><tr><td>SHURGD MINI PRETZELS</td><td>119133</td></tr><tr><td>SHURGD PRETZEL STICKS</td><td>118708</td></tr><tr><td>LSTRNE CL MINT ANTSPTC MW</td><td>109775</td></tr><tr><td>FRSC BRCK OVN ITL PEP PZ</td><td>85687</td></tr><tr><td>SHURGD PRETZEL RODS</td><td>81677</td></tr><tr><td>RLDGLD BRAIDED HONEY WHT</td><td>81609</td></tr><tr><td>FRSC PEPPERONI PIZZA</td><td>75880</td></tr><tr><td>PL ANTSPTC SPG MNT MTHWS</td><td>69588</td></tr><tr><td>FRSC 4 CHEESE PIZZA</td><td>58250</td></tr><tr><td>LSTRNE FRS BRST ANTSPC MW</td><td>50355</td></tr><tr><td>CREST PH CLN MINT RINSE</td><td>47573</td></tr><tr><td>SCOPE ORIG MINT MOUTHWASH</td><td>43654</td></tr><tr><td>CREST PH WHTG CLN MINT TP</td><td>40577</td></tr><tr><td>NWMN OWN PEPPERONI PIZZA</td><td>34914</td></tr><tr><td>MKSL MINI TWIST PRETZELS</td><td>33200</td></tr><tr><td>MKSL DUTCH PRETZELS</td><td>29769</td></tr><tr><td>NWMN OWN 4 CHEESE PIZZA</td><td>25475</td></tr><tr><td>MKSL PRETZEL STICKS</td><td>23437</td></tr><tr><td>ACT KIDS BBLGUM FLUOR RNS</td><td>18819</td></tr><tr><td>ACT MINT A/CAV FLUOR RNS</td><td>16834</td></tr><tr><td>ACT RSTR CL SPLSH MINT MW</td><td>15659</td></tr><tr><td>NWMN OWN SUPREME PIZZA</td><td>14896</td></tr><tr><td>COLG SPEARMINT WISP</td><td>1933</td></tr></tbody></table></div>"
      ]
     },
     "metadata": {
      "application/vnd.databricks.v1+output": {
       "addedWidgets": {},
       "aggData": [],
       "aggError": "",
       "aggOverflow": false,
       "aggSchema": [],
       "aggSeriesLimitReached": false,
       "aggType": "",
       "arguments": {},
       "columnCustomDisplayInfos": {},
       "data": [
        [
         "GM CHEERIOS",
         907571
        ],
        [
         "GM HONEY NUT CHEERIOS",
         828200
        ],
        [
         "PL MINI TWIST PRETZELS",
         687797
        ],
        [
         "KELL FROSTED FLAKES",
         579036
        ],
        [
         "PL PRETZEL STICKS",
         547771
        ],
        [
         "PL BT SZ FRSTD SHRD WHT",
         477461
        ],
        [
         "KELL FROOT LOOPS",
         471884
        ],
        [
         "KELL BITE SIZE MINI WHEAT",
         407179
        ],
        [
         "PL RAISIN BRAN",
         377635
        ],
        [
         "QKER CAP N CRUNCH BERRIES",
         344551
        ],
        [
         "POST HNY BN OTS HNY RSTD",
         313637
        ],
        [
         "POST FRUITY PEBBLES",
         297316
        ],
        [
         "POST FM SZ HNYBNCH OT ALM",
         272440
        ],
        [
         "PL HONEY NUT TOASTD OATS",
         267033
        ],
        [
         "DIGRN PEPP PIZZA",
         266472
        ],
        [
         "PL TWIST PRETZELS",
         259538
        ],
        [
         "QKER CAP N CRUNCH",
         257297
        ],
        [
         "DIGRN SUPREME PIZZA",
         195604
        ],
        [
         "PL SR CRUST PEPPRN PIZZA",
         186334
        ],
        [
         "QKER LIFE ORIGINAL",
         177365
        ],
        [
         "RLDGLD TINY TWISTS PRTZL",
         169975
        ],
        [
         "PL SR CRUST 3 MEAT PIZZA",
         149374
        ],
        [
         "PL SR CRUST SUPRM PIZZA",
         144989
        ],
        [
         "DIGIORNO THREE MEAT",
         144193
        ],
        [
         "SNYDR SOURDOUGH NIBBLERS",
         138506
        ],
        [
         "SNYDR FF MINI PRETZELS",
         135356
        ],
        [
         "RLDGLD PRETZEL STICKS",
         126381
        ],
        [
         "PL BL MINT ANTSPTC RINSE",
         119744
        ],
        [
         "SNYDR PRETZEL RODS",
         119496
        ],
        [
         "SHURGD MINI PRETZELS",
         119133
        ],
        [
         "SHURGD PRETZEL STICKS",
         118708
        ],
        [
         "LSTRNE CL MINT ANTSPTC MW",
         109775
        ],
        [
         "FRSC BRCK OVN ITL PEP PZ",
         85687
        ],
        [
         "SHURGD PRETZEL RODS",
         81677
        ],
        [
         "RLDGLD BRAIDED HONEY WHT",
         81609
        ],
        [
         "FRSC PEPPERONI PIZZA",
         75880
        ],
        [
         "PL ANTSPTC SPG MNT MTHWS",
         69588
        ],
        [
         "FRSC 4 CHEESE PIZZA",
         58250
        ],
        [
         "LSTRNE FRS BRST ANTSPC MW",
         50355
        ],
        [
         "CREST PH CLN MINT RINSE",
         47573
        ],
        [
         "SCOPE ORIG MINT MOUTHWASH",
         43654
        ],
        [
         "CREST PH WHTG CLN MINT TP",
         40577
        ],
        [
         "NWMN OWN PEPPERONI PIZZA",
         34914
        ],
        [
         "MKSL MINI TWIST PRETZELS",
         33200
        ],
        [
         "MKSL DUTCH PRETZELS",
         29769
        ],
        [
         "NWMN OWN 4 CHEESE PIZZA",
         25475
        ],
        [
         "MKSL PRETZEL STICKS",
         23437
        ],
        [
         "ACT KIDS BBLGUM FLUOR RNS",
         18819
        ],
        [
         "ACT MINT A/CAV FLUOR RNS",
         16834
        ],
        [
         "ACT RSTR CL SPLSH MINT MW",
         15659
        ],
        [
         "NWMN OWN SUPREME PIZZA",
         14896
        ],
        [
         "COLG SPEARMINT WISP",
         1933
        ]
       ],
       "datasetInfos": [],
       "dbfsResultPath": null,
       "isJsonSchema": true,
       "metadata": {},
       "overflow": false,
       "plotOptions": {
        "customPlotOptions": {},
        "displayType": "table",
        "pivotAggregation": null,
        "pivotColumns": null,
        "xColumns": null,
        "yColumns": null
       },
       "removedWidgets": [],
       "schema": [
        {
         "metadata": "{}",
         "name": "DESCRIPTION",
         "type": "\"string\""
        },
        {
         "metadata": "{}",
         "name": "sum(UNITS)",
         "type": "\"long\""
        }
       ],
       "type": "table"
      }
     },
     "output_type": "display_data"
    },
    {
     "output_type": "display_data",
     "data": {
      "text/html": [
       "<style scoped>\n",
       "  .table-result-container {\n",
       "    max-height: 300px;\n",
       "    overflow: auto;\n",
       "  }\n",
       "  table, th, td {\n",
       "    border: 1px solid black;\n",
       "    border-collapse: collapse;\n",
       "  }\n",
       "  th, td {\n",
       "    padding: 5px;\n",
       "  }\n",
       "  th {\n",
       "    text-align: left;\n",
       "  }\n",
       "</style><div class='table-result-container'><table class='table-result'><thead style='background-color: white'><tr><th>STORE_NAME</th><th>count</th></tr></thead><tbody><tr><td>HOUSTON</td><td>26531</td></tr><tr><td>MIDDLETOWN</td><td>14986</td></tr><tr><td>ROCKWALL</td><td>13812</td></tr><tr><td>FLOWER MOUND</td><td>13574</td></tr><tr><td>ANDERSON TOWNE CTR</td><td>8045</td></tr><tr><td>HYDE PARK</td><td>8007</td></tr><tr><td>BLUE ASH</td><td>7968</td></tr><tr><td>CINCINNATI</td><td>7934</td></tr><tr><td>LIBERTY TWP</td><td>7895</td></tr><tr><td>LEBANON</td><td>7865</td></tr><tr><td>DENT</td><td>7861</td></tr><tr><td>VANDALIA</td><td>7815</td></tr><tr><td>DEERFIELD TWP</td><td>7804</td></tr><tr><td>SILVERLAKE</td><td>7739</td></tr><tr><td>MIAMI TOWNSHIP</td><td>7733</td></tr><tr><td>MAINEVILLE</td><td>7725</td></tr><tr><td>TYLERSVILLE</td><td>7675</td></tr><tr><td>LAWRENCEBURG</td><td>7651</td></tr><tr><td>WOODLAWN</td><td>7615</td></tr><tr><td>LATONIA</td><td>7611</td></tr><tr><td>LIBERTY TWP.</td><td>7611</td></tr><tr><td>LANDEN</td><td>7608</td></tr><tr><td>MT. CARMEL</td><td>7476</td></tr><tr><td>SPRINGFIELD</td><td>7342</td></tr><tr><td>HAMILTON</td><td>7302</td></tr><tr><td>INDEPENDENCE</td><td>7291</td></tr><tr><td>LOVELAND</td><td>7233</td></tr><tr><td>ST. MARYS</td><td>7226</td></tr><tr><td>MILFORD-MULBERRY</td><td>7196</td></tr><tr><td>PINEWOOD</td><td>7052</td></tr><tr><td>KINGWOOD</td><td>7002</td></tr><tr><td>CYPRESS</td><td>6996</td></tr><tr><td>WHIPP & BIGGER</td><td>6989</td></tr><tr><td>EAST ALLEN</td><td>6979</td></tr><tr><td>WARSAW AVENUE</td><td>6955</td></tr><tr><td>GOSHEN</td><td>6919</td></tr><tr><td>DALLAS</td><td>6912</td></tr><tr><td>FRISCO</td><td>6881</td></tr><tr><td>SWEETWATER PLAZA</td><td>6848</td></tr><tr><td>KATY</td><td>6836</td></tr><tr><td>THE WOODLANDS</td><td>6810</td></tr><tr><td>DAYTON</td><td>6803</td></tr><tr><td>CYPRESS TOWN CENTER</td><td>6782</td></tr><tr><td>SOUTHLAKE</td><td>6757</td></tr><tr><td>MCKINNEY</td><td>6748</td></tr><tr><td>CARROLLTON</td><td>6745</td></tr><tr><td>PLANTATION PLAZA</td><td>6659</td></tr><tr><td>DENTON</td><td>6627</td></tr><tr><td>MAGNOLIA</td><td>6617</td></tr><tr><td>CROWLEY</td><td>6615</td></tr><tr><td>BEAUMONT</td><td>6613</td></tr><tr><td>WOODLANDS</td><td>6460</td></tr><tr><td>RICHARDSON</td><td>6395</td></tr><tr><td>SUGARLAND</td><td>6375</td></tr><tr><td>DICKINSON VILLAGE</td><td>6366</td></tr><tr><td>WOOD FOREST S/C</td><td>6290</td></tr><tr><td>DUNCANVILLE</td><td>6192</td></tr><tr><td>ANTOINE TOWN CENTER</td><td>6182</td></tr><tr><td>SHERMAN</td><td>6138</td></tr><tr><td>GARLAND</td><td>6136</td></tr><tr><td>AT WARD ROAD</td><td>6113</td></tr><tr><td>PARKWAY SQUARE S/C</td><td>6085</td></tr><tr><td>TOWN & COUNTRY</td><td>6050</td></tr><tr><td>15TH & MADISON</td><td>5943</td></tr><tr><td>KEARNEY</td><td>5879</td></tr><tr><td>NORWOOD</td><td>5799</td></tr><tr><td>HIGHWAY 75</td><td>5730</td></tr><tr><td>AT EASTEX FRWY</td><td>5476</td></tr><tr><td>KROGER JUNCTION S/C</td><td>5369</td></tr><tr><td>LANDMARK PLACE S/C</td><td>5250</td></tr><tr><td>NORTHBOROUGH SQ</td><td>5096</td></tr><tr><td>WALNUT HILLS/PEEBLES</td><td>4721</td></tr><tr><td>OVER-THE-RHINE</td><td>4114</td></tr></tbody></table></div>"
      ]
     },
     "metadata": {
      "application/vnd.databricks.v1+output": {
       "addedWidgets": {},
       "aggData": [],
       "aggError": "",
       "aggOverflow": false,
       "aggSchema": [],
       "aggSeriesLimitReached": false,
       "aggType": "",
       "arguments": {},
       "columnCustomDisplayInfos": {},
       "data": [
        [
         "HOUSTON",
         26531
        ],
        [
         "MIDDLETOWN",
         14986
        ],
        [
         "ROCKWALL",
         13812
        ],
        [
         "FLOWER MOUND",
         13574
        ],
        [
         "ANDERSON TOWNE CTR",
         8045
        ],
        [
         "HYDE PARK",
         8007
        ],
        [
         "BLUE ASH",
         7968
        ],
        [
         "CINCINNATI",
         7934
        ],
        [
         "LIBERTY TWP",
         7895
        ],
        [
         "LEBANON",
         7865
        ],
        [
         "DENT",
         7861
        ],
        [
         "VANDALIA",
         7815
        ],
        [
         "DEERFIELD TWP",
         7804
        ],
        [
         "SILVERLAKE",
         7739
        ],
        [
         "MIAMI TOWNSHIP",
         7733
        ],
        [
         "MAINEVILLE",
         7725
        ],
        [
         "TYLERSVILLE",
         7675
        ],
        [
         "LAWRENCEBURG",
         7651
        ],
        [
         "WOODLAWN",
         7615
        ],
        [
         "LATONIA",
         7611
        ],
        [
         "LIBERTY TWP.",
         7611
        ],
        [
         "LANDEN",
         7608
        ],
        [
         "MT. CARMEL",
         7476
        ],
        [
         "SPRINGFIELD",
         7342
        ],
        [
         "HAMILTON",
         7302
        ],
        [
         "INDEPENDENCE",
         7291
        ],
        [
         "LOVELAND",
         7233
        ],
        [
         "ST. MARYS",
         7226
        ],
        [
         "MILFORD-MULBERRY",
         7196
        ],
        [
         "PINEWOOD",
         7052
        ],
        [
         "KINGWOOD",
         7002
        ],
        [
         "CYPRESS",
         6996
        ],
        [
         "WHIPP & BIGGER",
         6989
        ],
        [
         "EAST ALLEN",
         6979
        ],
        [
         "WARSAW AVENUE",
         6955
        ],
        [
         "GOSHEN",
         6919
        ],
        [
         "DALLAS",
         6912
        ],
        [
         "FRISCO",
         6881
        ],
        [
         "SWEETWATER PLAZA",
         6848
        ],
        [
         "KATY",
         6836
        ],
        [
         "THE WOODLANDS",
         6810
        ],
        [
         "DAYTON",
         6803
        ],
        [
         "CYPRESS TOWN CENTER",
         6782
        ],
        [
         "SOUTHLAKE",
         6757
        ],
        [
         "MCKINNEY",
         6748
        ],
        [
         "CARROLLTON",
         6745
        ],
        [
         "PLANTATION PLAZA",
         6659
        ],
        [
         "DENTON",
         6627
        ],
        [
         "MAGNOLIA",
         6617
        ],
        [
         "CROWLEY",
         6615
        ],
        [
         "BEAUMONT",
         6613
        ],
        [
         "WOODLANDS",
         6460
        ],
        [
         "RICHARDSON",
         6395
        ],
        [
         "SUGARLAND",
         6375
        ],
        [
         "DICKINSON VILLAGE",
         6366
        ],
        [
         "WOOD FOREST S/C",
         6290
        ],
        [
         "DUNCANVILLE",
         6192
        ],
        [
         "ANTOINE TOWN CENTER",
         6182
        ],
        [
         "SHERMAN",
         6138
        ],
        [
         "GARLAND",
         6136
        ],
        [
         "AT WARD ROAD",
         6113
        ],
        [
         "PARKWAY SQUARE S/C",
         6085
        ],
        [
         "TOWN & COUNTRY",
         6050
        ],
        [
         "15TH & MADISON",
         5943
        ],
        [
         "KEARNEY",
         5879
        ],
        [
         "NORWOOD",
         5799
        ],
        [
         "HIGHWAY 75",
         5730
        ],
        [
         "AT EASTEX FRWY",
         5476
        ],
        [
         "KROGER JUNCTION S/C",
         5369
        ],
        [
         "LANDMARK PLACE S/C",
         5250
        ],
        [
         "NORTHBOROUGH SQ",
         5096
        ],
        [
         "WALNUT HILLS/PEEBLES",
         4721
        ],
        [
         "OVER-THE-RHINE",
         4114
        ]
       ],
       "datasetInfos": [],
       "dbfsResultPath": null,
       "isJsonSchema": true,
       "metadata": {},
       "overflow": false,
       "plotOptions": {
        "customPlotOptions": {},
        "displayType": "table",
        "pivotAggregation": null,
        "pivotColumns": null,
        "xColumns": null,
        "yColumns": null
       },
       "removedWidgets": [],
       "schema": [
        {
         "metadata": "{}",
         "name": "STORE_NAME",
         "type": "\"string\""
        },
        {
         "metadata": "{}",
         "name": "count",
         "type": "\"long\""
        }
       ],
       "type": "table"
      }
     },
     "output_type": "display_data"
    },
    {
     "output_type": "display_data",
     "data": {
      "text/html": [
       "<style scoped>\n",
       "  .table-result-container {\n",
       "    max-height: 300px;\n",
       "    overflow: auto;\n",
       "  }\n",
       "  table, th, td {\n",
       "    border: 1px solid black;\n",
       "    border-collapse: collapse;\n",
       "  }\n",
       "  th, td {\n",
       "    padding: 5px;\n",
       "  }\n",
       "  th {\n",
       "    text-align: left;\n",
       "  }\n",
       "</style><div class='table-result-container'><table class='table-result'><thead style='background-color: white'><tr><th>WEEK_END_DATE</th><th>sum(SPEND)</th></tr></thead><tbody><tr><td>1-Apr-09</td><td>172916.45999999996</td></tr><tr><td>1-Dec-10</td><td>161237.46999999924</td></tr><tr><td>1-Jul-09</td><td>163263.78999999972</td></tr><tr><td>1-Jun-11</td><td>162016.9299999996</td></tr><tr><td>1-Sep-10</td><td>169089.7300000004</td></tr><tr><td>10-Aug-11</td><td>181691.0799999996</td></tr><tr><td>10-Feb-10</td><td>202372.6700000001</td></tr><tr><td>10-Jun-09</td><td>182451.07000000033</td></tr><tr><td>10-Mar-10</td><td>198871.7799999997</td></tr><tr><td>10-Nov-10</td><td>197864.8799999997</td></tr><tr><td>11-Aug-10</td><td>230734.90000000026</td></tr><tr><td>11-Feb-09</td><td>213537.89000000004</td></tr><tr><td>11-Mar-09</td><td>165884.0199999998</td></tr><tr><td>11-May-11</td><td>224160.37000000046</td></tr><tr><td>11-Nov-09</td><td>168738.94999999952</td></tr><tr><td>12-Aug-09</td><td>167452.8699999998</td></tr><tr><td>12-Jan-11</td><td>205057.8300000005</td></tr><tr><td>12-May-10</td><td>205515.88000000015</td></tr><tr><td>12-Oct-11</td><td>178867.60999999996</td></tr><tr><td>13-Apr-11</td><td>191912.96999999942</td></tr><tr><td>13-Jan-10</td><td>266982.31999999995</td></tr><tr><td>13-Jul-11</td><td>205579.74999999997</td></tr><tr><td>13-May-09</td><td>182484.12000000043</td></tr><tr><td>13-Oct-10</td><td>205703.66000000006</td></tr><tr><td>14-Apr-10</td><td>160197.38999999955</td></tr><tr><td>14-Dec-11</td><td>199988.69000000067</td></tr><tr><td>14-Jan-09</td><td>190606.25000000032</td></tr><tr><td>14-Jul-10</td><td>206436.94000000012</td></tr><tr><td>14-Oct-09</td><td>186175.83999999988</td></tr><tr><td>14-Sep-11</td><td>179808.82000000039</td></tr><tr><td>15-Apr-09</td><td>140420.76999999958</td></tr><tr><td>15-Dec-10</td><td>216064.5699999994</td></tr><tr><td>15-Jul-09</td><td>169823.5900000006</td></tr><tr><td>15-Jun-11</td><td>182182.9999999998</td></tr><tr><td>15-Sep-10</td><td>194993.21999999977</td></tr><tr><td>16-Dec-09</td><td>195773.07000000012</td></tr><tr><td>16-Feb-11</td><td>215678.5399999997</td></tr><tr><td>16-Jun-10</td><td>222718.85999999978</td></tr><tr><td>16-Mar-11</td><td>196270.6300000002</td></tr><tr><td>16-Nov-11</td><td>164549.86999999982</td></tr><tr><td>16-Sep-09</td><td>160759.04999999996</td></tr><tr><td>17-Aug-11</td><td>174683.6600000003</td></tr><tr><td>17-Feb-10</td><td>183436.35000000088</td></tr><tr><td>17-Jun-09</td><td>170287.84999999974</td></tr><tr><td>17-Mar-10</td><td>86405.19000000019</td></tr><tr><td>17-Nov-10</td><td>141770.62999999977</td></tr><tr><td>18-Aug-10</td><td>186560.78000000102</td></tr><tr><td>18-Feb-09</td><td>175278.40999999942</td></tr><tr><td>18-Mar-09</td><td>183051.5400000004</td></tr><tr><td>18-May-11</td><td>205774.0100000002</td></tr><tr><td>18-Nov-09</td><td>227073.29000000027</td></tr><tr><td>19-Aug-09</td><td>214687.8400000002</td></tr><tr><td>19-Jan-11</td><td>193921.4100000002</td></tr><tr><td>19-May-10</td><td>202741.87000000043</td></tr><tr><td>19-Oct-11</td><td>149592.05000000037</td></tr><tr><td>2-Dec-09</td><td>172471.11000000034</td></tr><tr><td>2-Feb-11</td><td>206695.33999999988</td></tr><tr><td>2-Jun-10</td><td>157689.64000000007</td></tr><tr><td>2-Mar-11</td><td>193682.3400000004</td></tr><tr><td>2-Nov-11</td><td>167143.92999999982</td></tr><tr><td>2-Sep-09</td><td>171389.83000000028</td></tr><tr><td>20-Apr-11</td><td>182790.23999999987</td></tr><tr><td>20-Jan-10</td><td>163426.4300000002</td></tr><tr><td>20-Jul-11</td><td>197711.9300000001</td></tr><tr><td>20-May-09</td><td>166331.96000000046</td></tr><tr><td>20-Oct-10</td><td>202133.5199999995</td></tr><tr><td>21-Apr-10</td><td>170477.77000000034</td></tr><tr><td>21-Dec-11</td><td>180663.22000000087</td></tr><tr><td>21-Jan-09</td><td>167987.95000000062</td></tr><tr><td>21-Jul-10</td><td>160380.08999999968</td></tr><tr><td>21-Oct-09</td><td>177545.83999999953</td></tr><tr><td>21-Sep-11</td><td>187423.06000000043</td></tr><tr><td>22-Apr-09</td><td>142683.98999999996</td></tr><tr><td>22-Dec-10</td><td>190590.73000000004</td></tr><tr><td>22-Jul-09</td><td>147848.33000000042</td></tr><tr><td>22-Jun-11</td><td>191752.14000000013</td></tr><tr><td>22-Sep-10</td><td>193710.03000000038</td></tr><tr><td>23-Dec-09</td><td>216940.89000000013</td></tr><tr><td>23-Feb-11</td><td>201851.69000000026</td></tr><tr><td>23-Jun-10</td><td>188893.9599999992</td></tr><tr><td>23-Mar-11</td><td>186285.2799999993</td></tr><tr><td>23-Nov-11</td><td>214186.11000000034</td></tr><tr><td>23-Sep-09</td><td>205473.64000000042</td></tr><tr><td>24-Aug-11</td><td>157997.5900000003</td></tr><tr><td>24-Feb-10</td><td>173086.49999999985</td></tr><tr><td>24-Jun-09</td><td>145158.99</td></tr><tr><td>24-Mar-10</td><td>192008.5100000002</td></tr><tr><td>24-Nov-10</td><td>190716.12999999977</td></tr><tr><td>25-Aug-10</td><td>186170.59000000017</td></tr><tr><td>25-Feb-09</td><td>168775.01000000018</td></tr><tr><td>25-Mar-09</td><td>171414.14000000016</td></tr><tr><td>25-May-11</td><td>175696.68999999965</td></tr><tr><td>25-Nov-09</td><td>184883.8900000007</td></tr><tr><td>26-Aug-09</td><td>182324.8800000001</td></tr><tr><td>26-Jan-11</td><td>165790.99000000051</td></tr><tr><td>26-May-10</td><td>163695.43999999994</td></tr><tr><td>26-Oct-11</td><td>139950.25</td></tr><tr><td>27-Apr-11</td><td>173893.88999999998</td></tr><tr><td>27-Jan-10</td><td>196165.6900000006</td></tr><tr><td>27-Jul-11</td><td>181533.1000000002</td></tr><tr><td>27-May-09</td><td>156902.5900000001</td></tr><tr><td>27-Oct-10</td><td>179650.5399999992</td></tr><tr><td>28-Apr-10</td><td>195817.91999999998</td></tr><tr><td>28-Dec-11</td><td>143119.55000000025</td></tr><tr><td>28-Jan-09</td><td>151770.5700000008</td></tr><tr><td>28-Jul-10</td><td>157849.0000000004</td></tr><tr><td>28-Oct-09</td><td>167790.15999999965</td></tr><tr><td>28-Sep-11</td><td>174275.29000000007</td></tr><tr><td>29-Apr-09</td><td>134396.6599999999</td></tr><tr><td>29-Dec-10</td><td>154064.63999999952</td></tr><tr><td>29-Jul-09</td><td>140312.58000000016</td></tr><tr><td>29-Jun-11</td><td>192755.32999999973</td></tr><tr><td>29-Sep-10</td><td>189668.05000000037</td></tr><tr><td>3-Aug-11</td><td>218347.78000000046</td></tr><tr><td>3-Feb-10</td><td>184991.0299999995</td></tr><tr><td>3-Jun-09</td><td>165109.48000000019</td></tr><tr><td>3-Mar-10</td><td>242047.77000000034</td></tr><tr><td>3-Nov-10</td><td>204039.7299999998</td></tr><tr><td>30-Dec-09</td><td>163498.86000000013</td></tr><tr><td>30-Jun-10</td><td>169820.3399999995</td></tr><tr><td>30-Mar-11</td><td>195021.3099999992</td></tr><tr><td>30-Nov-11</td><td>172280.97000000035</td></tr><tr><td>30-Sep-09</td><td>203194.86000000045</td></tr><tr><td>31-Aug-11</td><td>148177.87000000017</td></tr><tr><td>31-Mar-10</td><td>182843.16000000012</td></tr><tr><td>4-Aug-10</td><td>209334.70000000054</td></tr><tr><td>4-Feb-09</td><td>164572.3100000003</td></tr><tr><td>4-Jan-12</td><td>195942.66000000018</td></tr><tr><td>4-Mar-09</td><td>124267.24999999962</td></tr><tr><td>4-May-11</td><td>212919.82000000024</td></tr><tr><td>4-Nov-09</td><td>159732.3200000005</td></tr><tr><td>5-Aug-09</td><td>178096.0300000004</td></tr><tr><td>5-Jan-11</td><td>174630.86999999997</td></tr><tr><td>5-May-10</td><td>217130.34999999974</td></tr><tr><td>5-Oct-11</td><td>175333.8899999998</td></tr><tr><td>6-Apr-11</td><td>203015.5199999996</td></tr><tr><td>6-Jan-10</td><td>260805.47000000032</td></tr><tr><td>6-Jul-11</td><td>213030.69999999978</td></tr><tr><td>6-May-09</td><td>169235.7300000004</td></tr><tr><td>6-Oct-10</td><td>187915.33000000042</td></tr><tr><td>7-Apr-10</td><td>185130.28000000017</td></tr><tr><td>7-Dec-11</td><td>216825.28000000078</td></tr><tr><td>7-Jul-10</td><td>177242.38999999943</td></tr><tr><td>7-Oct-09</td><td>176324.46</td></tr><tr><td>7-Sep-11</td><td>168669.19999999975</td></tr><tr><td>8-Apr-09</td><td>169210.92000000013</td></tr><tr><td>8-Dec-10</td><td>239655.83000000042</td></tr><tr><td>8-Jul-09</td><td>182015.66999999987</td></tr><tr><td>8-Jun-11</td><td>192357.9099999997</td></tr><tr><td>8-Sep-10</td><td>205165.1499999998</td></tr><tr><td>9-Dec-09</td><td>240615.45000000045</td></tr><tr><td>9-Feb-11</td><td>252805.9600000003</td></tr><tr><td>9-Jun-10</td><td>183161.45999999988</td></tr><tr><td>9-Mar-11</td><td>214180.74999999962</td></tr><tr><td>9-Nov-11</td><td>166662.3199999995</td></tr><tr><td>9-Sep-09</td><td>146149.27999999953</td></tr></tbody></table></div>"
      ]
     },
     "metadata": {
      "application/vnd.databricks.v1+output": {
       "addedWidgets": {},
       "aggData": [],
       "aggError": "",
       "aggOverflow": false,
       "aggSchema": [],
       "aggSeriesLimitReached": false,
       "aggType": "",
       "arguments": {},
       "columnCustomDisplayInfos": {},
       "data": [
        [
         "1-Apr-09",
         172916.45999999996
        ],
        [
         "1-Dec-10",
         161237.46999999924
        ],
        [
         "1-Jul-09",
         163263.78999999972
        ],
        [
         "1-Jun-11",
         162016.9299999996
        ],
        [
         "1-Sep-10",
         169089.7300000004
        ],
        [
         "10-Aug-11",
         181691.0799999996
        ],
        [
         "10-Feb-10",
         202372.6700000001
        ],
        [
         "10-Jun-09",
         182451.07000000033
        ],
        [
         "10-Mar-10",
         198871.7799999997
        ],
        [
         "10-Nov-10",
         197864.8799999997
        ],
        [
         "11-Aug-10",
         230734.90000000026
        ],
        [
         "11-Feb-09",
         213537.89000000004
        ],
        [
         "11-Mar-09",
         165884.0199999998
        ],
        [
         "11-May-11",
         224160.37000000046
        ],
        [
         "11-Nov-09",
         168738.94999999952
        ],
        [
         "12-Aug-09",
         167452.8699999998
        ],
        [
         "12-Jan-11",
         205057.8300000005
        ],
        [
         "12-May-10",
         205515.88000000015
        ],
        [
         "12-Oct-11",
         178867.60999999996
        ],
        [
         "13-Apr-11",
         191912.96999999942
        ],
        [
         "13-Jan-10",
         266982.31999999995
        ],
        [
         "13-Jul-11",
         205579.74999999997
        ],
        [
         "13-May-09",
         182484.12000000043
        ],
        [
         "13-Oct-10",
         205703.66000000006
        ],
        [
         "14-Apr-10",
         160197.38999999955
        ],
        [
         "14-Dec-11",
         199988.69000000067
        ],
        [
         "14-Jan-09",
         190606.25000000032
        ],
        [
         "14-Jul-10",
         206436.94000000012
        ],
        [
         "14-Oct-09",
         186175.83999999988
        ],
        [
         "14-Sep-11",
         179808.82000000039
        ],
        [
         "15-Apr-09",
         140420.76999999958
        ],
        [
         "15-Dec-10",
         216064.5699999994
        ],
        [
         "15-Jul-09",
         169823.5900000006
        ],
        [
         "15-Jun-11",
         182182.9999999998
        ],
        [
         "15-Sep-10",
         194993.21999999977
        ],
        [
         "16-Dec-09",
         195773.07000000012
        ],
        [
         "16-Feb-11",
         215678.5399999997
        ],
        [
         "16-Jun-10",
         222718.85999999978
        ],
        [
         "16-Mar-11",
         196270.6300000002
        ],
        [
         "16-Nov-11",
         164549.86999999982
        ],
        [
         "16-Sep-09",
         160759.04999999996
        ],
        [
         "17-Aug-11",
         174683.6600000003
        ],
        [
         "17-Feb-10",
         183436.35000000088
        ],
        [
         "17-Jun-09",
         170287.84999999974
        ],
        [
         "17-Mar-10",
         86405.19000000019
        ],
        [
         "17-Nov-10",
         141770.62999999977
        ],
        [
         "18-Aug-10",
         186560.78000000102
        ],
        [
         "18-Feb-09",
         175278.40999999942
        ],
        [
         "18-Mar-09",
         183051.5400000004
        ],
        [
         "18-May-11",
         205774.0100000002
        ],
        [
         "18-Nov-09",
         227073.29000000027
        ],
        [
         "19-Aug-09",
         214687.8400000002
        ],
        [
         "19-Jan-11",
         193921.4100000002
        ],
        [
         "19-May-10",
         202741.87000000043
        ],
        [
         "19-Oct-11",
         149592.05000000037
        ],
        [
         "2-Dec-09",
         172471.11000000034
        ],
        [
         "2-Feb-11",
         206695.33999999988
        ],
        [
         "2-Jun-10",
         157689.64000000007
        ],
        [
         "2-Mar-11",
         193682.3400000004
        ],
        [
         "2-Nov-11",
         167143.92999999982
        ],
        [
         "2-Sep-09",
         171389.83000000028
        ],
        [
         "20-Apr-11",
         182790.23999999987
        ],
        [
         "20-Jan-10",
         163426.4300000002
        ],
        [
         "20-Jul-11",
         197711.9300000001
        ],
        [
         "20-May-09",
         166331.96000000046
        ],
        [
         "20-Oct-10",
         202133.5199999995
        ],
        [
         "21-Apr-10",
         170477.77000000034
        ],
        [
         "21-Dec-11",
         180663.22000000087
        ],
        [
         "21-Jan-09",
         167987.95000000062
        ],
        [
         "21-Jul-10",
         160380.08999999968
        ],
        [
         "21-Oct-09",
         177545.83999999953
        ],
        [
         "21-Sep-11",
         187423.06000000043
        ],
        [
         "22-Apr-09",
         142683.98999999996
        ],
        [
         "22-Dec-10",
         190590.73000000004
        ],
        [
         "22-Jul-09",
         147848.33000000042
        ],
        [
         "22-Jun-11",
         191752.14000000013
        ],
        [
         "22-Sep-10",
         193710.03000000038
        ],
        [
         "23-Dec-09",
         216940.89000000013
        ],
        [
         "23-Feb-11",
         201851.69000000026
        ],
        [
         "23-Jun-10",
         188893.9599999992
        ],
        [
         "23-Mar-11",
         186285.2799999993
        ],
        [
         "23-Nov-11",
         214186.11000000034
        ],
        [
         "23-Sep-09",
         205473.64000000042
        ],
        [
         "24-Aug-11",
         157997.5900000003
        ],
        [
         "24-Feb-10",
         173086.49999999985
        ],
        [
         "24-Jun-09",
         145158.99
        ],
        [
         "24-Mar-10",
         192008.5100000002
        ],
        [
         "24-Nov-10",
         190716.12999999977
        ],
        [
         "25-Aug-10",
         186170.59000000017
        ],
        [
         "25-Feb-09",
         168775.01000000018
        ],
        [
         "25-Mar-09",
         171414.14000000016
        ],
        [
         "25-May-11",
         175696.68999999965
        ],
        [
         "25-Nov-09",
         184883.8900000007
        ],
        [
         "26-Aug-09",
         182324.8800000001
        ],
        [
         "26-Jan-11",
         165790.99000000051
        ],
        [
         "26-May-10",
         163695.43999999994
        ],
        [
         "26-Oct-11",
         139950.25
        ],
        [
         "27-Apr-11",
         173893.88999999998
        ],
        [
         "27-Jan-10",
         196165.6900000006
        ],
        [
         "27-Jul-11",
         181533.1000000002
        ],
        [
         "27-May-09",
         156902.5900000001
        ],
        [
         "27-Oct-10",
         179650.5399999992
        ],
        [
         "28-Apr-10",
         195817.91999999998
        ],
        [
         "28-Dec-11",
         143119.55000000025
        ],
        [
         "28-Jan-09",
         151770.5700000008
        ],
        [
         "28-Jul-10",
         157849.0000000004
        ],
        [
         "28-Oct-09",
         167790.15999999965
        ],
        [
         "28-Sep-11",
         174275.29000000007
        ],
        [
         "29-Apr-09",
         134396.6599999999
        ],
        [
         "29-Dec-10",
         154064.63999999952
        ],
        [
         "29-Jul-09",
         140312.58000000016
        ],
        [
         "29-Jun-11",
         192755.32999999973
        ],
        [
         "29-Sep-10",
         189668.05000000037
        ],
        [
         "3-Aug-11",
         218347.78000000046
        ],
        [
         "3-Feb-10",
         184991.0299999995
        ],
        [
         "3-Jun-09",
         165109.48000000019
        ],
        [
         "3-Mar-10",
         242047.77000000034
        ],
        [
         "3-Nov-10",
         204039.7299999998
        ],
        [
         "30-Dec-09",
         163498.86000000013
        ],
        [
         "30-Jun-10",
         169820.3399999995
        ],
        [
         "30-Mar-11",
         195021.3099999992
        ],
        [
         "30-Nov-11",
         172280.97000000035
        ],
        [
         "30-Sep-09",
         203194.86000000045
        ],
        [
         "31-Aug-11",
         148177.87000000017
        ],
        [
         "31-Mar-10",
         182843.16000000012
        ],
        [
         "4-Aug-10",
         209334.70000000054
        ],
        [
         "4-Feb-09",
         164572.3100000003
        ],
        [
         "4-Jan-12",
         195942.66000000018
        ],
        [
         "4-Mar-09",
         124267.24999999962
        ],
        [
         "4-May-11",
         212919.82000000024
        ],
        [
         "4-Nov-09",
         159732.3200000005
        ],
        [
         "5-Aug-09",
         178096.0300000004
        ],
        [
         "5-Jan-11",
         174630.86999999997
        ],
        [
         "5-May-10",
         217130.34999999974
        ],
        [
         "5-Oct-11",
         175333.8899999998
        ],
        [
         "6-Apr-11",
         203015.5199999996
        ],
        [
         "6-Jan-10",
         260805.47000000032
        ],
        [
         "6-Jul-11",
         213030.69999999978
        ],
        [
         "6-May-09",
         169235.7300000004
        ],
        [
         "6-Oct-10",
         187915.33000000042
        ],
        [
         "7-Apr-10",
         185130.28000000017
        ],
        [
         "7-Dec-11",
         216825.28000000078
        ],
        [
         "7-Jul-10",
         177242.38999999943
        ],
        [
         "7-Oct-09",
         176324.46
        ],
        [
         "7-Sep-11",
         168669.19999999975
        ],
        [
         "8-Apr-09",
         169210.92000000013
        ],
        [
         "8-Dec-10",
         239655.83000000042
        ],
        [
         "8-Jul-09",
         182015.66999999987
        ],
        [
         "8-Jun-11",
         192357.9099999997
        ],
        [
         "8-Sep-10",
         205165.1499999998
        ],
        [
         "9-Dec-09",
         240615.45000000045
        ],
        [
         "9-Feb-11",
         252805.9600000003
        ],
        [
         "9-Jun-10",
         183161.45999999988
        ],
        [
         "9-Mar-11",
         214180.74999999962
        ],
        [
         "9-Nov-11",
         166662.3199999995
        ],
        [
         "9-Sep-09",
         146149.27999999953
        ]
       ],
       "datasetInfos": [],
       "dbfsResultPath": null,
       "isJsonSchema": true,
       "metadata": {},
       "overflow": false,
       "plotOptions": {
        "customPlotOptions": {},
        "displayType": "table",
        "pivotAggregation": null,
        "pivotColumns": null,
        "xColumns": null,
        "yColumns": null
       },
       "removedWidgets": [],
       "schema": [
        {
         "metadata": "{}",
         "name": "WEEK_END_DATE",
         "type": "\"string\""
        },
        {
         "metadata": "{}",
         "name": "sum(SPEND)",
         "type": "\"double\""
        }
       ],
       "type": "table"
      }
     },
     "output_type": "display_data"
    }
   ],
   "source": [
    "# Visualizations\n",
    "display(top_products)\n",
    "display(busiest_stores)\n",
    "display(weekly_sales)"
   ]
  },
  {
   "cell_type": "markdown",
   "metadata": {
    "application/vnd.databricks.v1+cell": {
     "cellMetadata": {
      "byteLimit": 2048000,
      "rowLimit": 10000
     },
     "inputWidgets": {},
     "nuid": "e49432ea-bd64-463d-b3da-97988aca3cbd",
     "showTitle": false,
     "tableResultSettingsMap": {},
     "title": ""
    }
   },
   "source": [
    "## Step 5: SparkSQL Queries"
   ]
  },
  {
   "cell_type": "code",
   "execution_count": 0,
   "metadata": {
    "application/vnd.databricks.v1+cell": {
     "cellMetadata": {
      "byteLimit": 2048000,
      "rowLimit": 10000
     },
     "inputWidgets": {},
     "nuid": "c4740c7b-6abd-4abb-8003-d69d32767802",
     "showTitle": false,
     "tableResultSettingsMap": {},
     "title": ""
    }
   },
   "outputs": [],
   "source": [
    "# Create df as a SQL table \n",
    "df.createOrReplaceTempView('sales_data')\n",
    "\n"
   ]
  },
  {
   "cell_type": "code",
   "execution_count": 0,
   "metadata": {
    "application/vnd.databricks.v1+cell": {
     "cellMetadata": {
      "byteLimit": 2048000,
      "rowLimit": 10000
     },
     "inputWidgets": {},
     "nuid": "f1fb312c-9e5e-40f2-89a5-3a3d93a11307",
     "showTitle": false,
     "tableResultSettingsMap": {},
     "title": ""
    }
   },
   "outputs": [
    {
     "output_type": "stream",
     "name": "stdout",
     "output_type": "stream",
     "text": [
      "+--------------------+------------------+\n|         DESCRIPTION|       total_spend|\n+--------------------+------------------+\n|         GM CHEERIOS| 2889043.689999998|\n|GM HONEY NUT CHEE...|2110348.3599999994|\n| KELL FROSTED FLAKES|1519959.8999999994|\n|    DIGRN PEPP PIZZA|1475513.5799999996|\n|KELL BITE SIZE MI...|        1249213.25|\n|    KELL FROOT LOOPS|1185958.5700000005|\n| DIGRN SUPREME PIZZA|1078161.3399999996|\n|PL BT SZ FRSTD SH...|1011252.7899999996|\n|POST HNY BN OTS H...| 984546.0300000001|\n|PL MINI TWIST PRE...|         932626.46|\n+--------------------+------------------+\n\n+--------------------+----------------+\n|            CATEGORY|total_units_sold|\n+--------------------+----------------+\n|         COLD CEREAL|         5978605|\n|          BAG SNACKS|         2672353|\n|        FROZEN PIZZA|         1382068|\n|ORAL HYGIENE PROD...|          534511|\n+--------------------+----------------+\n\n+-------------+------------------+\n|WEEK_END_DATE|    weekly_revenue|\n+-------------+------------------+\n|    13-Jan-10|266982.31999999995|\n|     6-Jan-10|260805.47000000032|\n|     9-Feb-11| 252805.9600000003|\n|     3-Mar-10|242047.77000000034|\n|     9-Dec-09|240615.45000000045|\n|     8-Dec-10|239655.83000000042|\n|    11-Aug-10|230734.90000000026|\n|    18-Nov-09|227073.29000000027|\n|    11-May-11|224160.37000000046|\n|    16-Jun-10|222718.85999999978|\n+-------------+------------------+\n\n"
     ]
    }
   ],
   "source": [
    "# Run SQL Queries\n",
    "# Most profitable products by spend value\n",
    "spark.sql(\"\"\"\n",
    "SELECT DESCRIPTION, SUM(SPEND) AS total_spend\n",
    "FROM sales_data\n",
    "GROUP BY DESCRIPTION\n",
    "ORDER BY total_spend DESC\n",
    "LIMIT 10\n",
    "\"\"\").show()\n",
    "\n",
    "\n",
    "# Category that sells the most physically \n",
    "spark.sql(\"\"\"\n",
    "SELECT CATEGORY, SUM(UNITS) AS total_units_sold\n",
    "FROM sales_data\n",
    "GROUP BY CATEGORY\n",
    "ORDER BY total_units_sold DESC\n",
    "LIMIT 10\n",
    "\"\"\").show()\n",
    "\n",
    "# Biggest Weeks for total sales\n",
    "spark.sql(\"\"\"\n",
    "SELECT WEEK_END_DATE, SUM(SPEND) AS weekly_revenue\n",
    "FROM sales_data\n",
    "GROUP BY WEEK_END_DATE\n",
    "ORDER BY weekly_revenue DESC\n",
    "LIMIT 10\n",
    "\"\"\").show()\n"
   ]
  },
  {
   "cell_type": "markdown",
   "metadata": {
    "application/vnd.databricks.v1+cell": {
     "cellMetadata": {
      "byteLimit": 2048000,
      "rowLimit": 10000
     },
     "inputWidgets": {},
     "nuid": "8a8a6225-d241-4dbf-ad4e-ded59b7c9ded",
     "showTitle": false,
     "tableResultSettingsMap": {},
     "title": ""
    }
   },
   "source": [
    "## Step 6: Feature Engineering"
   ]
  },
  {
   "cell_type": "code",
   "execution_count": 0,
   "metadata": {
    "application/vnd.databricks.v1+cell": {
     "cellMetadata": {
      "byteLimit": 2048000,
      "rowLimit": 10000
     },
     "inputWidgets": {},
     "nuid": "0fb25c1c-bee3-454e-a595-0de7e31a97cf",
     "showTitle": false,
     "tableResultSettingsMap": {},
     "title": ""
    }
   },
   "outputs": [],
   "source": [
    "# Convert categorical columns (Category, Store) to numeric\n",
    "from pyspark.ml.feature import StringIndexer\n",
    "\n",
    "category_index = StringIndexer(inputCol='CATEGORY', outputCol='CATEGORY_INDEX')\n",
    "store_index = StringIndexer(inputCol='STORE_NAME', outputCol='STORE_INDEX')\n",
    "\n",
    "# Apply indexers to df\n",
    "df = category_index.fit(df).transform(df)\n",
    "df = store_index.fit(df).transform(df)\n",
    "\n"
   ]
  },
  {
   "cell_type": "code",
   "execution_count": 0,
   "metadata": {
    "application/vnd.databricks.v1+cell": {
     "cellMetadata": {
      "byteLimit": 2048000,
      "rowLimit": 10000
     },
     "inputWidgets": {},
     "nuid": "795aa7b6-b39c-4516-8440-68c16d3de796",
     "showTitle": false,
     "tableResultSettingsMap": {},
     "title": ""
    }
   },
   "outputs": [],
   "source": [
    "# new engineered features \n",
    "df = df.withColumn('DISCOUNT_PCT', (col('BASE_PRICE') - col('PRICE')) / col('BASE_PRICE'))\n",
    "\n",
    "# create promotion score feature\n",
    "# identify products that have no promotion, single promotion (featured or displayed), or both\n",
    "df = df.withColumn('PROMOTION_SCORE', col('FEATURE') + col('DISPLAY'))"
   ]
  },
  {
   "cell_type": "code",
   "execution_count": 0,
   "metadata": {
    "application/vnd.databricks.v1+cell": {
     "cellMetadata": {
      "byteLimit": 2048000,
      "rowLimit": 10000
     },
     "inputWidgets": {},
     "nuid": "41605c7e-1380-463a-962a-69430abb589c",
     "showTitle": false,
     "tableResultSettingsMap": {},
     "title": ""
    }
   },
   "outputs": [],
   "source": [
    "# assemble features \n",
    "from pyspark.ml.feature import VectorAssembler\n",
    "\n",
    "assembler = VectorAssembler(\n",
    "    inputCols=[ \n",
    "        'STORE_INDEX',\n",
    "        'DISCOUNT_PCT', # inclues base_price and price \n",
    "        'PROMOTION_SCORE' #includes feature and display \n",
    "    \n",
    "    ],\n",
    "    outputCol='features'\n",
    ")\n",
    "\n",
    "# Transform the final dataset\n",
    "df = assembler.transform(df)\n"
   ]
  },
  {
   "cell_type": "code",
   "execution_count": 0,
   "metadata": {
    "application/vnd.databricks.v1+cell": {
     "cellMetadata": {
      "byteLimit": 2048000,
      "rowLimit": 10000
     },
     "inputWidgets": {},
     "nuid": "56218fda-05eb-4a43-b3e7-be67fc2d7bd0",
     "showTitle": false,
     "tableResultSettingsMap": {},
     "title": ""
    }
   },
   "outputs": [
    {
     "output_type": "stream",
     "name": "stdout",
     "output_type": "stream",
     "text": [
      "+------------------------------+\n|features                      |\n+------------------------------+\n|[63.0,0.11464968152866252,0.0]|\n|[63.0,0.0,0.0]                |\n|[63.0,0.0,0.0]                |\n|[63.0,0.2204899777282851,0.0] |\n|[63.0,0.0,0.0]                |\n+------------------------------+\nonly showing top 5 rows\n\n"
     ]
    }
   ],
   "source": [
    "# check features\n",
    "df.select('features').show(5, truncate=False)"
   ]
  },
  {
   "cell_type": "markdown",
   "metadata": {
    "application/vnd.databricks.v1+cell": {
     "cellMetadata": {
      "byteLimit": 2048000,
      "rowLimit": 10000
     },
     "inputWidgets": {},
     "nuid": "9d276e28-cb38-46b4-8d09-f360f998b50f",
     "showTitle": false,
     "tableResultSettingsMap": {},
     "title": ""
    }
   },
   "source": [
    "## Step 7: Machine Learning Models (SparkML)"
   ]
  },
  {
   "cell_type": "code",
   "execution_count": 0,
   "metadata": {
    "application/vnd.databricks.v1+cell": {
     "cellMetadata": {
      "byteLimit": 2048000,
      "rowLimit": 10000
     },
     "inputWidgets": {},
     "nuid": "7a26c625-634c-46a6-b166-ac8b8643d1a7",
     "showTitle": false,
     "tableResultSettingsMap": {},
     "title": ""
    }
   },
   "outputs": [],
   "source": [
    "# split data set\n",
    "train_data, test_data = df.randomSplit([0.7, 0.3])\n",
    "\n"
   ]
  },
  {
   "cell_type": "code",
   "execution_count": 0,
   "metadata": {
    "application/vnd.databricks.v1+cell": {
     "cellMetadata": {
      "byteLimit": 2048000,
      "rowLimit": 10000
     },
     "inputWidgets": {},
     "nuid": "5e06fc82-923b-42fb-8d5a-bf10bd891a21",
     "showTitle": false,
     "tableResultSettingsMap": {},
     "title": ""
    }
   },
   "outputs": [
    {
     "output_type": "stream",
     "name": "stdout",
     "output_type": "stream",
     "text": [
      "+--------------+----------+\n|CATEGORY_INDEX|prediction|\n+--------------+----------+\n|           1.0|       0.0|\n|           1.0|       0.0|\n|           1.0|       0.0|\n|           1.0|       0.0|\n|           1.0|       0.0|\n|           1.0|       0.0|\n|           1.0|       0.0|\n|           1.0|       0.0|\n|           1.0|       0.0|\n|           1.0|       0.0|\n|           1.0|       0.0|\n|           1.0|       0.0|\n|           1.0|       0.0|\n|           1.0|       0.0|\n|           1.0|       0.0|\n|           1.0|       0.0|\n|           1.0|       0.0|\n|           1.0|       2.0|\n|           1.0|       0.0|\n|           1.0|       0.0|\n|           2.0|       2.0|\n|           2.0|       0.0|\n|           2.0|       0.0|\n|           2.0|       0.0|\n|           2.0|       0.0|\n|           2.0|       0.0|\n|           2.0|       0.0|\n|           2.0|       2.0|\n|           2.0|       2.0|\n|           2.0|       0.0|\n|           2.0|       2.0|\n|           2.0|       0.0|\n|           2.0|       2.0|\n|           2.0|       2.0|\n|           0.0|       0.0|\n|           0.0|       0.0|\n|           0.0|       0.0|\n|           0.0|       0.0|\n|           0.0|       0.0|\n|           0.0|       0.0|\n|           0.0|       0.0|\n|           0.0|       0.0|\n|           0.0|       0.0|\n|           0.0|       0.0|\n|           0.0|       0.0|\n|           0.0|       0.0|\n|           0.0|       0.0|\n|           0.0|       0.0|\n|           0.0|       0.0|\n|           0.0|       0.0|\n+--------------+----------+\nonly showing top 50 rows\n\n"
     ]
    }
   ],
   "source": [
    "# M1 - Logistic Regression\n",
    "from pyspark.ml.classification import LogisticRegression\n",
    "\n",
    "# initialize \n",
    "lr = LogisticRegression(featuresCol='features', labelCol='CATEGORY_INDEX', maxIter=10)\n",
    "\n",
    "# train \n",
    "lr_model = lr.fit(train_data)\n",
    "\n",
    "# predict\n",
    "lr_predictions = lr_model.transform(test_data)\n",
    "\n",
    "# test/show predictions \n",
    "lr_predictions.select('CATEGORY_INDEX', 'prediction').show(50)"
   ]
  },
  {
   "cell_type": "code",
   "execution_count": 0,
   "metadata": {
    "application/vnd.databricks.v1+cell": {
     "cellMetadata": {
      "byteLimit": 2048000,
      "rowLimit": 10000
     },
     "inputWidgets": {},
     "nuid": "951a7f6c-39df-49dd-84ff-0a98f08d42c0",
     "showTitle": false,
     "tableResultSettingsMap": {},
     "title": ""
    }
   },
   "outputs": [
    {
     "output_type": "stream",
     "name": "stdout",
     "output_type": "stream",
     "text": [
      "M1 Test Accuracy = 0.3275738074867636\n"
     ]
    }
   ],
   "source": [
    "# Test M1\n",
    "from pyspark.ml.evaluation import MulticlassClassificationEvaluator\n",
    "\n",
    "evaluator = MulticlassClassificationEvaluator(\n",
    "    labelCol='CATEGORY_INDEX', predictionCol='prediction', metricName='accuracy')\n",
    "\n",
    "accuracy = evaluator.evaluate(lr_predictions)\n",
    "print(f\"M1 Test Accuracy = {accuracy}\")\n",
    "\n",
    "#Results: m1 Test Accuracy = 1.0 = 100%, most likely due to strong features"
   ]
  },
  {
   "cell_type": "code",
   "execution_count": 0,
   "metadata": {
    "application/vnd.databricks.v1+cell": {
     "cellMetadata": {
      "byteLimit": 2048000,
      "rowLimit": 10000
     },
     "inputWidgets": {},
     "nuid": "e06cb23b-e911-4f2a-ae5c-c3e859404bc0",
     "showTitle": false,
     "tableResultSettingsMap": {},
     "title": ""
    }
   },
   "outputs": [
    {
     "output_type": "stream",
     "name": "stdout",
     "output_type": "stream",
     "text": [
      "+--------------+----------+\n|CATEGORY_INDEX|prediction|\n+--------------+----------+\n|           1.0|       0.0|\n|           1.0|       0.0|\n|           1.0|       0.0|\n|           1.0|       0.0|\n|           1.0|       0.0|\n|           1.0|       1.0|\n|           1.0|       0.0|\n|           1.0|       0.0|\n|           1.0|       0.0|\n|           1.0|       0.0|\n|           1.0|       0.0|\n|           1.0|       0.0|\n|           1.0|       0.0|\n|           1.0|       1.0|\n|           1.0|       0.0|\n|           1.0|       0.0|\n|           1.0|       0.0|\n|           1.0|       1.0|\n|           1.0|       0.0|\n|           1.0|       0.0|\n|           2.0|       1.0|\n|           2.0|       0.0|\n|           2.0|       0.0|\n|           2.0|       0.0|\n|           2.0|       1.0|\n|           2.0|       0.0|\n|           2.0|       0.0|\n|           2.0|       0.0|\n|           2.0|       2.0|\n|           2.0|       0.0|\n|           2.0|       2.0|\n|           2.0|       0.0|\n|           2.0|       0.0|\n|           2.0|       2.0|\n|           0.0|       0.0|\n|           0.0|       0.0|\n|           0.0|       0.0|\n|           0.0|       0.0|\n|           0.0|       0.0|\n|           0.0|       0.0|\n|           0.0|       0.0|\n|           0.0|       1.0|\n|           0.0|       0.0|\n|           0.0|       0.0|\n|           0.0|       0.0|\n|           0.0|       0.0|\n|           0.0|       0.0|\n|           0.0|       0.0|\n|           0.0|       0.0|\n|           0.0|       0.0|\n+--------------+----------+\nonly showing top 50 rows\n\n"
     ]
    }
   ],
   "source": [
    "# M2 - Decision Tree\n",
    "from pyspark.ml.classification import DecisionTreeClassifier\n",
    "\n",
    "dt = DecisionTreeClassifier(featuresCol='features', labelCol='CATEGORY_INDEX', maxBins=128)\n",
    "dt_model = dt.fit(train_data)\n",
    "dt_predictions = dt_model.transform(test_data)\n",
    "\n",
    "dt_predictions.select('CATEGORY_INDEX', 'prediction').show(50)\n"
   ]
  },
  {
   "cell_type": "code",
   "execution_count": 0,
   "metadata": {
    "application/vnd.databricks.v1+cell": {
     "cellMetadata": {
      "byteLimit": 2048000,
      "rowLimit": 10000
     },
     "inputWidgets": {},
     "nuid": "a014af46-8605-434e-a94e-cbd5d66d3141",
     "showTitle": false,
     "tableResultSettingsMap": {},
     "title": ""
    }
   },
   "outputs": [],
   "source": [
    "# Test M2\n"
   ]
  },
  {
   "cell_type": "code",
   "execution_count": 0,
   "metadata": {
    "application/vnd.databricks.v1+cell": {
     "cellMetadata": {
      "byteLimit": 2048000,
      "rowLimit": 10000
     },
     "inputWidgets": {},
     "nuid": "fccaab3d-d476-45da-b27e-5ef8dafae9da",
     "showTitle": false,
     "tableResultSettingsMap": {},
     "title": ""
    }
   },
   "outputs": [
    {
     "output_type": "stream",
     "name": "stdout",
     "output_type": "stream",
     "text": [
      "+--------------+----------+\n|CATEGORY_INDEX|prediction|\n+--------------+----------+\n|           1.0|       0.0|\n|           1.0|       0.0|\n|           1.0|       0.0|\n|           1.0|       0.0|\n|           1.0|       0.0|\n+--------------+----------+\nonly showing top 5 rows\n\n"
     ]
    }
   ],
   "source": [
    "# M3 - Random Forest\n",
    "from pyspark.ml.classification import RandomForestClassifier\n",
    "\n",
    "rf = RandomForestClassifier(featuresCol='features', labelCol='CATEGORY_INDEX', numTrees=20, maxBins=128)\n",
    "rf_model = rf.fit(train_data)\n",
    "rf_predictions = rf_model.transform(test_data)\n",
    "\n",
    "rf_predictions.select('CATEGORY_INDEX', 'prediction').show(5)\n"
   ]
  },
  {
   "cell_type": "code",
   "execution_count": 0,
   "metadata": {
    "application/vnd.databricks.v1+cell": {
     "cellMetadata": {
      "byteLimit": 2048000,
      "rowLimit": 10000
     },
     "inputWidgets": {},
     "nuid": "530d2586-baf0-4542-a548-803de0da179b",
     "showTitle": false,
     "tableResultSettingsMap": {},
     "title": ""
    }
   },
   "outputs": [
    {
     "output_type": "stream",
     "name": "stdout",
     "output_type": "stream",
     "text": [
      "+----------+\n|prediction|\n+----------+\n|         1|\n|         1|\n|         1|\n|         1|\n|         1|\n+----------+\nonly showing top 5 rows\n\n"
     ]
    }
   ],
   "source": [
    "# M4 - K Cluster\n",
    "from pyspark.ml.clustering import KMeans\n",
    "\n",
    "# Note: KMeans doesn't use label\n",
    "kmeans = KMeans(featuresCol='features', k=5, seed=42)\n",
    "kmeans_model = kmeans.fit(train_data)\n",
    "kmeans_predictions = kmeans_model.transform(test_data)\n",
    "\n",
    "kmeans_predictions.select('prediction').show(5)\n"
   ]
  },
  {
   "cell_type": "markdown",
   "metadata": {
    "application/vnd.databricks.v1+cell": {
     "cellMetadata": {
      "byteLimit": 2048000,
      "rowLimit": 10000
     },
     "inputWidgets": {},
     "nuid": "efce4d46-0c57-413f-bf6d-4bcd6055f545",
     "showTitle": false,
     "tableResultSettingsMap": {},
     "title": ""
    }
   },
   "source": [
    "## Step 8: Model Evaluations"
   ]
  },
  {
   "cell_type": "code",
   "execution_count": 0,
   "metadata": {
    "application/vnd.databricks.v1+cell": {
     "cellMetadata": {
      "byteLimit": 2048000,
      "rowLimit": 10000
     },
     "inputWidgets": {},
     "nuid": "45673fb5-528b-4157-aec7-95d71110534b",
     "showTitle": false,
     "tableResultSettingsMap": {},
     "title": ""
    }
   },
   "outputs": [
    {
     "output_type": "stream",
     "name": "stdout",
     "output_type": "stream",
     "text": [
      "M1 Test Accuracy = 0.3275738074867636\nM2 Test Accuracy = 0.3726766605909559\nM3 Test Accuracy = 0.372434872100088\n+----------+\n|prediction|\n+----------+\n|         1|\n|         1|\n|         1|\n|         1|\n|         1|\n+----------+\nonly showing top 5 rows\n\n"
     ]
    }
   ],
   "source": [
    "from pyspark.ml.evaluation import MulticlassClassificationEvaluator\n",
    "\n",
    "evaluator = MulticlassClassificationEvaluator(\n",
    "    labelCol='CATEGORY_INDEX', predictionCol='prediction', metricName='accuracy')\n",
    "\n",
    "# Logistic Regression\n",
    "lr_accuracy = evaluator.evaluate(lr_predictions)\n",
    "print(f\"M1 Test Accuracy = {lr_accuracy}\")\n",
    "\n",
    "# Decision Tree\n",
    "dt_accuracy = evaluator.evaluate(dt_predictions)\n",
    "print(f\"M2 Test Accuracy = {dt_accuracy}\")\n",
    "\n",
    "# Random Forest\n",
    "rf_accuracy = evaluator.evaluate(rf_predictions)\n",
    "print(f\"M3 Test Accuracy = {rf_accuracy}\")\n",
    "\n",
    "# KMeans - no labels = no accuracy \n",
    "kmeans_predictions.select('prediction').show(5)\n",
    "\n",
    "\n",
    "\n"
   ]
  }
 ],
 "metadata": {
  "application/vnd.databricks.v1+notebook": {
   "computePreferences": null,
   "dashboards": [],
   "environmentMetadata": null,
   "inputWidgetPreferences": null,
   "language": "python",
   "notebookMetadata": {
    "pythonIndentUnit": 4
   },
   "notebookName": "snackchain_notebook",
   "widgets": {}
  }
 },
 "nbformat": 4,
 "nbformat_minor": 0
}